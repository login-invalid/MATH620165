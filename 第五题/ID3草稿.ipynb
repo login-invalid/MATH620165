{
 "cells": [
  {
   "cell_type": "code",
   "execution_count": 1,
   "metadata": {},
   "outputs": [
    {
     "name": "stdout",
     "output_type": "stream",
     "text": [
      "Age 0.15384615384615385\n",
      "Incoming 0.2776646518797547\n",
      "Student 0.31859303462125327\n",
      "Credit Rating 0.49924807659023557\n",
      "We choose Age in next.\n"
     ]
    }
   ],
   "source": [
    "import pandas as pd\n",
    "import math\n",
    "LEVEL = 0\n",
    "df_list = []\n",
    "\n",
    "def I(x,y):\n",
    "    n = x+y\n",
    "    if n == 0:\n",
    "        return 0\n",
    "    if x == 0:\n",
    "        x = x+1\n",
    "    if y == 0:\n",
    "        y = y+1\n",
    "    return -x/n*math.log2(x/n)-y/n*math.log2(y/n)\n",
    "\n",
    "def H(df):\n",
    "    tmp = df.groupby(['Buying']).count()\n",
    "    return I(tmp.iloc[:,0][0],tmp.iloc[:,0][1])\n",
    "\n",
    "def HA(df,A):\n",
    "    tmp = df.groupby([A,'Buying'])[['Buying']].count()\n",
    "    N = sum(tmp['Buying'])\n",
    "    ret = 0\n",
    "    for i in range(len(tmp)//2):\n",
    "        #print(tmp)\n",
    "        ret = I(tmp['Buying'][2*i+1],tmp['Buying'][2*i])* \\\n",
    "                    (tmp['Buying'][2*i+1]+tmp['Buying'][2*i])/N\n",
    "    return ret\n",
    "\n",
    "def H_one_time(df):\n",
    "    cols = list(df.columns)\n",
    "    cols.remove('Buying')\n",
    "    ret = []\n",
    "    for i in cols:\n",
    "        ret.append([i,HA(df,i)])\n",
    "        print(i,HA(df,i))\n",
    "    ret = sorted(ret, key=lambda x: (x[1], x[0]),reverse= False)\n",
    "    return ret[0]\n",
    "    \n",
    "\n",
    "file = pd.read_excel(\"/Users/vielyi/Desktop/Book1.xlsx\",index_col= 0)\n",
    "for col in file.columns:\n",
    "    file[col] =  file[col].astype('category')\n",
    "\n",
    "df_list.append([LEVEL,file])\n",
    "feature,_ = H_one_time(file)\n",
    "print(f\"We choose {feature} in next.\")\n",
    "\n",
    "LEVEL += 1"
   ]
  },
  {
   "cell_type": "code",
   "execution_count": 2,
   "metadata": {},
   "outputs": [
    {
     "name": "stdout",
     "output_type": "stream",
     "text": [
      "++++++++++++++++++++++++++++++++++++++++++++++++++++++++++++\n",
      "Age: <=30\n",
      "Incoming 0.4\n",
      "Student 0.2\n",
      "Credit Rating 0.5509775004326938\n",
      "We choose Student in next.\n",
      "++++++++++++++++++++++++++++++++++++++++++++++++++++++++++++\n",
      "Age: [31,40] is unqiue. Stops here!\n",
      "++++++++++++++++++++++++++++++++++++++++++++++++++++++++++++\n",
      "Age: >40\n",
      "Incoming 0.25\n",
      "Student 0.6887218755408672\n",
      "Credit Rating 0.396240625180289\n",
      "We choose Incoming in next.\n"
     ]
    }
   ],
   "source": [
    "for i in file[feature].unique():\n",
    "    tmpdf = file.query(f\"{feature} == '{i}'\").drop(feature,axis=1)\n",
    "    if len(tmpdf['Buying'].unique()) == 1: # 节点纯净\n",
    "        print('+'*60)\n",
    "        print(f\"{feature}: {i} is unqiue. Stops here!\")\n",
    "        continue\n",
    "    print('+'*60)\n",
    "    print(f\"{feature}: {i}\")\n",
    "    feature_tmp, _ = H_one_time(tmpdf)\n",
    "    print(f\"We choose {feature_tmp} in next.\")\n",
    "file,feature = tmpdf,feature_tmp"
   ]
  },
  {
   "cell_type": "code",
   "execution_count": 3,
   "metadata": {},
   "outputs": [
    {
     "data": {
      "text/plain": [
       "(        Incoming Student Credit Rating Buying\n",
       " User id                                      \n",
       " 4         medium      no          fair    yes\n",
       " 5            low     yes          fair    yes\n",
       " 6            low     yes     excellent     no\n",
       " 10        medium     yes          fair    yes,\n",
       " 'Incoming')"
      ]
     },
     "execution_count": 3,
     "metadata": {},
     "output_type": "execute_result"
    }
   ],
   "source": [
    "LEVEL += 1\n",
    "file,feature"
   ]
  },
  {
   "cell_type": "code",
   "execution_count": 4,
   "metadata": {},
   "outputs": [
    {
     "name": "stdout",
     "output_type": "stream",
     "text": [
      "++++++++++++++++++++++++++++++++++++++++++++++++++++++++++++\n",
      "Incoming: medium is unqiue. Stops here!\n",
      "++++++++++++++++++++++++++++++++++++++++++++++++++++++++++++\n",
      "Incoming: low\n",
      "Student 1.0\n",
      "Credit Rating -0.0\n",
      "We choose Credit Rating in next.\n"
     ]
    }
   ],
   "source": [
    "for i in file[feature].unique():\n",
    "    tmpdf = file.query(f\"{feature} == '{i}'\").drop(feature,axis=1)\n",
    "    if len(tmpdf['Buying'].unique()) == 1: # 节点纯净\n",
    "        print('+'*60)\n",
    "        print(f\"{feature}: {i} is unqiue. Stops here!\")\n",
    "        continue\n",
    "    print('+'*60)\n",
    "    print(f\"{feature}: {i}\")\n",
    "    feature_tmp, _ = H_one_time(tmpdf)\n",
    "    print(f\"We choose {feature_tmp} in next.\")"
   ]
  }
 ],
 "metadata": {
  "kernelspec": {
   "display_name": "Python 3.9.12 ('base')",
   "language": "python",
   "name": "python3"
  },
  "language_info": {
   "codemirror_mode": {
    "name": "ipython",
    "version": 3
   },
   "file_extension": ".py",
   "mimetype": "text/x-python",
   "name": "python",
   "nbconvert_exporter": "python",
   "pygments_lexer": "ipython3",
   "version": "3.9.12"
  },
  "orig_nbformat": 4,
  "vscode": {
   "interpreter": {
    "hash": "6ef08a35aa095f7ff813f2c28cb50193de2ac1554043ed2adebb665011faf3fd"
   }
  }
 },
 "nbformat": 4,
 "nbformat_minor": 2
}
